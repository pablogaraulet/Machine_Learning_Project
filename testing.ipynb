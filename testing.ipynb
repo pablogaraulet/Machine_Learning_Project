{
 "cells": [
  {
   "cell_type": "code",
   "execution_count": null,
   "id": "c9d86d7d",
   "metadata": {},
   "outputs": [],
   "source": [
    "import torch\n",
    "import torch.nn as nn\n",
    "import matplotlib.pyplot as plt\n",
    "from torchvision import datasets, transforms\n",
    "from torch.utils.data import DataLoader\n",
    "from cnn_model import CNN  # Your CNN model\n",
    "from data_utils import get_cnn_loader  # Your loader for MNIST/EMNIST\n"
   ]
  },
  {
   "cell_type": "code",
   "execution_count": null,
   "id": "565ae44e",
   "metadata": {},
   "outputs": [],
   "source": [
    "device = torch.device(\"cuda\" if torch.cuda.is_available() else \"cpu\")\n",
    "\n",
    "model = CNN(num_classes=10)  # or 47 for EMNIST\n",
    "model.load_state_dict(torch.load(\"cnn_mnist.pt\", map_location=device))\n",
    "model.to(device)\n",
    "model.eval()\n"
   ]
  },
  {
   "cell_type": "code",
   "execution_count": null,
   "id": "2ec9bb71",
   "metadata": {},
   "outputs": [],
   "source": [
    "test_loader = get_cnn_loader(dataset_name=\"MNIST\", batch_size=16, train=False)\n"
   ]
  },
  {
   "cell_type": "code",
   "execution_count": null,
   "id": "8530e16f",
   "metadata": {},
   "outputs": [],
   "source": [
    "classes = [str(i) for i in range(10)]  # Change if using EMNIST (letters)\n",
    "\n",
    "def show_predictions(loader, model, num_batches=1):\n",
    "    for i, (images, labels) in enumerate(loader):\n",
    "        if i >= num_batches:\n",
    "            break\n",
    "        images, labels = images.to(device), labels.to(device)\n",
    "        outputs = model(images)\n",
    "        _, preds = torch.max(outputs, 1)\n",
    "\n",
    "        images = images.cpu().numpy()\n",
    "        preds = preds.cpu().numpy()\n",
    "        labels = labels.cpu().numpy()\n",
    "\n",
    "        plt.figure(figsize=(12, 3))\n",
    "        for j in range(len(images)):\n",
    "            plt.subplot(1, len(images), j+1)\n",
    "            plt.imshow(images[j][0], cmap=\"gray\")\n",
    "            plt.title(f\"Pred: {classes[preds[j]]}\\nTrue: {classes[labels[j]]}\")\n",
    "            plt.axis(\"off\")\n",
    "        plt.show()\n",
    "\n",
    "show_predictions(test_loader, model)\n"
   ]
  },
  {
   "cell_type": "code",
   "execution_count": null,
   "id": "96f8847a",
   "metadata": {},
   "outputs": [],
   "source": [
    "correct = 0\n",
    "total = 0\n",
    "\n",
    "with torch.no_grad():\n",
    "    for images, labels in test_loader:\n",
    "        images, labels = images.to(device), labels.to(device)\n",
    "        outputs = model(images)\n",
    "        _, predicted = torch.max(outputs.data, 1)\n",
    "        total += labels.size(0)\n",
    "        correct += (predicted == labels).sum().item()\n",
    "\n",
    "print(f\"Test Accuracy: {100 * correct / total:.2f}%\")\n"
   ]
  }
 ],
 "metadata": {
  "language_info": {
   "name": "python"
  }
 },
 "nbformat": 4,
 "nbformat_minor": 5
}
