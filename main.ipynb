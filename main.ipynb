{
 "cells": [
  {
   "cell_type": "code",
   "execution_count": 1,
   "id": "d0c5e0a8",
   "metadata": {},
   "outputs": [],
   "source": [
    "#Import Libraries\n",
    "import torch\n",
    "from torch import nn\n",
    "from torch.utils.data import DataLoader, TensorDataset\n",
    "from torchvision import transforms\n",
    "import numpy as np\n",
    "import pandas as pd\n",
    "import matplotlib.pyplot as plt\n",
    "from sklearn.model_selection import train_test_split\n",
    "from sklearn.metrics import classification_report, confusion_matrix\n",
    "%matplotlib inline"
   ]
  },
  {
   "cell_type": "code",
   "execution_count": 2,
   "id": "64f74677",
   "metadata": {},
   "outputs": [],
   "source": [
    "#Load the Dataset\n",
    "train_df = pd.read_csv(\"train.csv\")\n",
    "test_df = pd.read_csv(\"test.csv\")"
   ]
  },
  {
   "cell_type": "code",
   "execution_count": 3,
   "id": "13aad1fa",
   "metadata": {},
   "outputs": [
    {
     "data": {
      "image/png": "[encoded data removed]",
      "text/plain": [
       "<Figure size 1500x200 with 10 Axes>"
      ]
     },
     "metadata": {},
     "output_type": "display_data"
    }
   ],
   "source": [
    "#Initial Visualization of Images\n",
    "# Step 1: Extract pixel data and labels from the training DataFrame\n",
    "X = train_df.drop(\"label\", axis=1).values  # Extract pixel values\n",
    "y = train_df[\"label\"].values               # Extract labels\n",
    "\n",
    "# Step 2: Normalize pixel values to the range [0, 1]\n",
    "X = X / 255.0\n",
    "\n",
    "# Step 3: Plot several sample images with their corresponding labels\n",
    "import matplotlib.pyplot as plt\n",
    "\n",
    "def plot_samples(X, y, n=10):\n",
    "    \"\"\"\n",
    "    Display n random samples from the dataset.\n",
    "    Each image is reshaped into 28x28 pixels.\n",
    "    \"\"\"\n",
    "    plt.figure(figsize=(15, 2))\n",
    "    indices = np.random.choice(len(X), n, replace=False)\n",
    "    for i, idx in enumerate(indices):\n",
    "        image = X[idx].reshape(28, 28)\n",
    "        label = y[idx]\n",
    "        plt.subplot(1, n, i+1)\n",
    "        plt.imshow(image, cmap=\"gray\")\n",
    "        plt.title(f\"Label: {label}\")\n",
    "        plt.axis(\"off\")\n",
    "    plt.show()\n",
    "\n",
    "# Call the function to visualize 10 random images\n",
    "plot_samples(X, y)\n"
   ]
  },
  {
   "cell_type": "code",
   "execution_count": 4,
   "id": "08ebc35a",
   "metadata": {},
   "outputs": [],
   "source": [
    "#Data Preprocessing and Loader Creation\n",
    "\n",
    "from sklearn.model_selection import train_test_split\n",
    "import torch\n",
    "from torch.utils.data import DataLoader, TensorDataset\n",
    "\n",
    "# Step 1: Separate features and labels\n",
    "X = train_df.drop(\"label\", axis=1).values.astype(np.float32)  # Shape: (n_samples, 784)\n",
    "y = train_df[\"label\"].values.astype(np.int64)                # Labels: integers 0-9\n",
    "\n",
    "# Step 2: Normalize pixel values to [0, 1]\n",
    "X = X / 255.0\n",
    "\n",
    "# Step 3: Split data into training and validation sets\n",
    "X_train, X_val, y_train, y_val = train_test_split(X, y, test_size=0.1, random_state=42)\n",
    "\n",
    "# Step 4: Convert to PyTorch tensors\n",
    "X_train_tensor = torch.tensor(X_train)\n",
    "y_train_tensor = torch.tensor(y_train)\n",
    "\n",
    "X_val_tensor = torch.tensor(X_val)\n",
    "y_val_tensor = torch.tensor(y_val)\n",
    "\n",
    "# Step 5: Create TensorDatasets\n",
    "train_dataset = TensorDataset(X_train_tensor, y_train_tensor)\n",
    "val_dataset = TensorDataset(X_val_tensor, y_val_tensor)\n",
    "\n",
    "# Step 6: Create DataLoaders for batch processing\n",
    "train_loader = DataLoader(train_dataset, batch_size=64, shuffle=True)\n",
    "val_loader = DataLoader(val_dataset, batch_size=64, shuffle=False)\n"
   ]
  },
  {
   "cell_type": "code",
   "execution_count": null,
   "id": "42ec3159",
   "metadata": {},
   "outputs": [],
   "source": [
    "# Evaluation and Visualization"
   ]
  }
 ],
 "metadata": {
  "kernelspec": {
   "display_name": "base",
   "language": "python",
   "name": "python3"
  },
  "language_info": {
   "codemirror_mode": {
    "name": "ipython",
    "version": 3
   },
   "file_extension": ".py",
   "mimetype": "text/x-python",
   "name": "python",
   "nbconvert_exporter": "python",
   "pygments_lexer": "ipython3",
   "version": "3.12.4"
  }
 },
 "nbformat": 4,
 "nbformat_minor": 5
}
