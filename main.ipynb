{
 "cells": [
  {
   "cell_type": "code",
   "execution_count": 1,
   "id": "d0c5e0a8",
   "metadata": {},
   "outputs": [],
   "source": [
    "#Import Libraries\n",
    "import torch\n",
    "from torch import nn\n",
    "from torch.utils.data import DataLoader, TensorDataset\n",
    "from torchvision import transforms\n",
    "import numpy as np\n",
    "import pandas as pd\n",
    "import matplotlib.pyplot as plt\n",
    "from sklearn.model_selection import train_test_split\n",
    "from sklearn.metrics import classification_report, confusion_matrix\n",
    "%matplotlib inline"
   ]
  },
  {
   "cell_type": "code",
   "execution_count": 2,
   "id": "64f74677",
   "metadata": {},
   "outputs": [],
   "source": [
    "#Load the Dataset\n",
    "train_df = pd.read_csv(\"train.csv\")\n",
    "test_df = pd.read_csv(\"test.csv\")"
   ]
  },
  {
   "cell_type": "code",
   "execution_count": 3,
   "id": "13aad1fa",
   "metadata": {},
   "outputs": [
    {
     "data": {
      "image/png": "[encoded data removed]",
      "text/plain": [
       "<Figure size 1500x200 with 10 Axes>"
      ]
     },
     "metadata": {},
     "output_type": "display_data"
    }
   ],
   "source": [
    "#Initial Visualization of Images\n",
    "# Step 1: Extract pixel data and labels from the training DataFrame\n",
    "X = train_df.drop(\"label\", axis=1).values  # Extract pixel values\n",
    "y = train_df[\"label\"].values               # Extract labels\n",
    "\n",
    "# Step 2: Normalize pixel values to the range [0, 1]\n",
    "X = X / 255.0\n",
    "\n",
    "# Step 3: Plot several sample images with their corresponding labels\n",
    "import matplotlib.pyplot as plt\n",
    "\n",
    "def plot_samples(X, y, n=10):\n",
    "    \"\"\"\n",
    "    Display n random samples from the dataset.\n",
    "    Each image is reshaped into 28x28 pixels.\n",
    "    \"\"\"\n",
    "    plt.figure(figsize=(15, 2))\n",
    "    indices = np.random.choice(len(X), n, replace=False)\n",
    "    for i, idx in enumerate(indices):\n",
    "        image = X[idx].reshape(28, 28)\n",
    "        label = y[idx]\n",
    "        plt.subplot(1, n, i+1)\n",
    "        plt.imshow(image, cmap=\"gray\")\n",
    "        plt.title(f\"Label: {label}\")\n",
    "        plt.axis(\"off\")\n",
    "    plt.show()\n",
    "\n",
    "# Call the function to visualize 10 random images\n",
    "plot_samples(X, y)\n"
   ]
  },
  {
   "cell_type": "code",
   "execution_count": null,
   "id": "6b0c5ee7",
   "metadata": {},
   "outputs": [],
   "source": [
    "#Data Preprocessing and Loader Creation\n",
    "\n",
    "from sklearn.model_selection import train_test_split\n",
    "import torch\n",
    "from torch.utils.data import DataLoader, TensorDataset\n",
    "\n",
    "# Step 1: Separate features and labels\n",
    "X = train_df.drop(\"label\", axis=1).values.astype(np.float32)  # Shape: (n_samples, 784)\n",
    "y = train_df[\"label\"].values.astype(np.int64)                # Labels: integers 0-9\n",
    "\n",
    "# Step 2: Normalize pixel values to [0, 1]\n",
    "X = X / 255.0\n",
    "\n",
    "# Step 3: Split data into training and validation sets\n",
    "X_train, X_val, y_train, y_val = train_test_split(X, y, test_size=0.1, random_state=42)\n",
    "\n",
    "# Step 4: Convert to PyTorch tensors\n",
    "X_train_tensor = torch.tensor(X_train)\n",
    "y_train_tensor = torch.tensor(y_train)\n",
    "\n",
    "X_val_tensor = torch.tensor(X_val)\n",
    "y_val_tensor = torch.tensor(y_val)\n",
    "\n",
    "# Step 5: Create TensorDatasets\n",
    "train_dataset = TensorDataset(X_train_tensor, y_train_tensor)\n",
    "val_dataset = TensorDataset(X_val_tensor, y_val_tensor)\n",
    "\n",
    "# Step 6: Create DataLoaders for batch processing\n",
    "train_loader = DataLoader(train_dataset, batch_size=64, shuffle=True)\n",
    "val_loader = DataLoader(val_dataset, batch_size=64, shuffle=False)"
   ]
  },
  {
   "cell_type": "code",
   "execution_count": 86,
   "id": "a407f5b8",
   "metadata": {},
   "outputs": [],
   "source": [
    "#CNN Preprocessing (MNIST & EMNIST )\n",
    "import torch\n",
    "import numpy as np\n",
    "import torch.nn as nn\n",
    "import matplotlib.pyplot as plt\n",
    "from torchvision import datasets, transforms\n",
    "from torch.utils.data import DataLoader\n",
    "from cnn_model import CNN # CNN Model\n",
    "from data_utils import get_cnn_loader  # MNIST/EMNIST"
   ]
  },
  {
   "cell_type": "code",
   "execution_count": 87,
   "id": "c917abc6",
   "metadata": {},
   "outputs": [
    {
     "data": {
      "text/plain": [
       "CNN(\n",
       "  (network): Sequential(\n",
       "    (0): Conv2d(1, 32, kernel_size=(3, 3), stride=(1, 1), padding=(1, 1))\n",
       "    (1): ReLU()\n",
       "    (2): BatchNorm2d(32, eps=1e-05, momentum=0.1, affine=True, track_running_stats=True)\n",
       "    (3): Dropout(p=0.25, inplace=False)\n",
       "    (4): Conv2d(32, 64, kernel_size=(3, 3), stride=(1, 1), padding=(1, 1))\n",
       "    (5): ReLU()\n",
       "    (6): MaxPool2d(kernel_size=2, stride=2, padding=0, dilation=1, ceil_mode=False)\n",
       "    (7): BatchNorm2d(64, eps=1e-05, momentum=0.1, affine=True, track_running_stats=True)\n",
       "    (8): Dropout(p=0.25, inplace=False)\n",
       "    (9): Flatten(start_dim=1, end_dim=-1)\n",
       "    (10): Linear(in_features=12544, out_features=128, bias=True)\n",
       "    (11): ReLU()\n",
       "    (12): Dropout(p=0.5, inplace=False)\n",
       "    (13): Linear(in_features=128, out_features=10, bias=True)\n",
       "  )\n",
       ")"
      ]
     },
     "execution_count": 87,
     "metadata": {},
     "output_type": "execute_result"
    }
   ],
   "source": [
    "device = torch.device(\"cuda\" if torch.cuda.is_available() else \"cpu\")\n",
    "\n",
    "model = CNN(num_classes=10)  # change this to 47 for EMNIST testing\n",
    "model.load_state_dict(torch.load(\"cnn_mnist.pt\", map_location=device)) #change to cnn_emnist.pt for EMNIST testing\n",
    "model.to(device)\n",
    "model.eval()"
   ]
  },
  {
   "cell_type": "code",
   "execution_count": 88,
   "id": "072b25ac",
   "metadata": {},
   "outputs": [],
   "source": [
    "test_loader = get_cnn_loader(dataset_name=\"MNIST\", batch_size=16, train=False) #change to EMNIST for testing"
   ]
  },
  {
   "cell_type": "code",
   "execution_count": 89,
   "id": "62bdbb87",
   "metadata": {},
   "outputs": [
    {
     "data": {
      "image/png": "[encoded data removed]",
      "text/plain": [
       "<Figure size 1200x300 with 16 Axes>"
      ]
     },
     "metadata": {},
     "output_type": "display_data"
    }
   ],
   "source": [
    "classes = [str(i) for i in range(10)]  # Change if using EMNIST (letters)\n",
    "\n",
    "def show_predictions(loader, model, num_batches=1):\n",
    "    for i, (images, labels) in enumerate(loader):\n",
    "        if i >= num_batches:\n",
    "            break\n",
    "        images, labels = images.to(device), labels.to(device)\n",
    "        outputs = model(images)\n",
    "        _, preds = torch.max(outputs, 1)\n",
    "\n",
    "        images = images.cpu().numpy()\n",
    "        preds = preds.cpu().numpy()\n",
    "        labels = labels.cpu().numpy()\n",
    "\n",
    "        plt.figure(figsize=(12, 3))\n",
    "        for j in range(len(images)):\n",
    "            plt.subplot(1, len(images), j+1) \n",
    "            plt.imshow(images[j][0], cmap=\"gray\")\n",
    "            plt.title(f\"Label: {classes[preds[j]]}\", fontsize=10)\n",
    "            plt.axis(\"off\")\n",
    "        plt.show()\n",
    "\n",
    "show_predictions(test_loader, model)"
   ]
  },
  {
   "cell_type": "code",
   "execution_count": 90,
   "id": "7765b1fb",
   "metadata": {},
   "outputs": [
    {
     "name": "stdout",
     "output_type": "stream",
     "text": [
      "Test Accuracy: 98.76%\n"
     ]
    }
   ],
   "source": [
    "correct = 0\n",
    "total = 0\n",
    "\n",
    "with torch.no_grad():\n",
    "    for images, labels in test_loader:\n",
    "        images, labels = images.to(device), labels.to(device)\n",
    "        outputs = model(images)\n",
    "        _, predicted = torch.max(outputs.data, 1)\n",
    "        total += labels.size(0)\n",
    "        correct += (predicted == labels).sum().item()\n",
    "\n",
    "print(f\"Test Accuracy: {100 * correct / total:.2f}%\")"
   ]
  }
 ],
 "metadata": {
  "kernelspec": {
   "display_name": "Python 3",
   "language": "python",
   "name": "python3"
  },
  "language_info": {
   "codemirror_mode": {
    "name": "ipython",
    "version": 3
   },
   "file_extension": ".py",
   "mimetype": "text/x-python",
   "name": "python",
   "nbconvert_exporter": "python",
   "pygments_lexer": "ipython3",
   "version": "3.11.4"
  }
 },
 "nbformat": 4,
 "nbformat_minor": 5
}
